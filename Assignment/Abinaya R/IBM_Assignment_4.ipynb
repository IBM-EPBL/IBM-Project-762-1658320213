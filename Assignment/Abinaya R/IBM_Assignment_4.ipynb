{
 "cells": [
  {
   "cell_type": "code",
   "execution_count": 1,
   "id": "f67e496c",
   "metadata": {},
   "outputs": [],
   "source": [
    "import pandas as pd\n",
    "import numpy as np\n",
    "import matplotlib.pyplot as plt\n",
    "\n",
    "from sklearn.model_selection import train_test_split\n",
    "from sklearn.preprocessing import LabelEncoder\n",
    "from keras.models import Model\n",
    "from keras.layers import LSTM, Activation, Dense, Dropout, Input, Embedding\n",
    "from keras.optimizers import Adam\n",
    "from keras.preprocessing.text import Tokenizer\n",
    "from keras.preprocessing import sequence\n",
    "from keras.utils import pad_sequences\n",
    "from keras.utils import to_categorical\n",
    "from keras.callbacks import EarlyStopping"
   ]
  },
  {
   "cell_type": "markdown",
   "id": "b408369c",
   "metadata": {},
   "source": [
    "# READ THE DATASET"
   ]
  },
  {
   "cell_type": "code",
   "execution_count": 2,
   "id": "c8a60f68",
   "metadata": {},
   "outputs": [
    {
     "data": {
      "text/html": [
       "<div>\n",
       "<style scoped>\n",
       "    .dataframe tbody tr th:only-of-type {\n",
       "        vertical-align: middle;\n",
       "    }\n",
       "\n",
       "    .dataframe tbody tr th {\n",
       "        vertical-align: top;\n",
       "    }\n",
       "\n",
       "    .dataframe thead th {\n",
       "        text-align: right;\n",
       "    }\n",
       "</style>\n",
       "<table border=\"1\" class=\"dataframe\">\n",
       "  <thead>\n",
       "    <tr style=\"text-align: right;\">\n",
       "      <th></th>\n",
       "      <th>v1</th>\n",
       "      <th>v2</th>\n",
       "      <th>Unnamed: 2</th>\n",
       "      <th>Unnamed: 3</th>\n",
       "      <th>Unnamed: 4</th>\n",
       "    </tr>\n",
       "  </thead>\n",
       "  <tbody>\n",
       "    <tr>\n",
       "      <th>0</th>\n",
       "      <td>ham</td>\n",
       "      <td>Go until jurong point, crazy.. Available only ...</td>\n",
       "      <td>NaN</td>\n",
       "      <td>NaN</td>\n",
       "      <td>NaN</td>\n",
       "    </tr>\n",
       "    <tr>\n",
       "      <th>1</th>\n",
       "      <td>ham</td>\n",
       "      <td>Ok lar... Joking wif u oni...</td>\n",
       "      <td>NaN</td>\n",
       "      <td>NaN</td>\n",
       "      <td>NaN</td>\n",
       "    </tr>\n",
       "    <tr>\n",
       "      <th>2</th>\n",
       "      <td>spam</td>\n",
       "      <td>Free entry in 2 a wkly comp to win FA Cup fina...</td>\n",
       "      <td>NaN</td>\n",
       "      <td>NaN</td>\n",
       "      <td>NaN</td>\n",
       "    </tr>\n",
       "    <tr>\n",
       "      <th>3</th>\n",
       "      <td>ham</td>\n",
       "      <td>U dun say so early hor... U c already then say...</td>\n",
       "      <td>NaN</td>\n",
       "      <td>NaN</td>\n",
       "      <td>NaN</td>\n",
       "    </tr>\n",
       "    <tr>\n",
       "      <th>4</th>\n",
       "      <td>ham</td>\n",
       "      <td>Nah I don't think he goes to usf, he lives aro...</td>\n",
       "      <td>NaN</td>\n",
       "      <td>NaN</td>\n",
       "      <td>NaN</td>\n",
       "    </tr>\n",
       "  </tbody>\n",
       "</table>\n",
       "</div>"
      ],
      "text/plain": [
       "     v1                                                 v2 Unnamed: 2  \\\n",
       "0   ham  Go until jurong point, crazy.. Available only ...        NaN   \n",
       "1   ham                      Ok lar... Joking wif u oni...        NaN   \n",
       "2  spam  Free entry in 2 a wkly comp to win FA Cup fina...        NaN   \n",
       "3   ham  U dun say so early hor... U c already then say...        NaN   \n",
       "4   ham  Nah I don't think he goes to usf, he lives aro...        NaN   \n",
       "\n",
       "  Unnamed: 3 Unnamed: 4  \n",
       "0        NaN        NaN  \n",
       "1        NaN        NaN  \n",
       "2        NaN        NaN  \n",
       "3        NaN        NaN  \n",
       "4        NaN        NaN  "
      ]
     },
     "execution_count": 2,
     "metadata": {},
     "output_type": "execute_result"
    }
   ],
   "source": [
    "df = pd.read_csv('spam.csv',delimiter=',',encoding='latin-1')\n",
    "df.head()"
   ]
  },
  {
   "cell_type": "markdown",
   "id": "20d9caec",
   "metadata": {},
   "source": [
    "# PREPROCESSING THE DATASET"
   ]
  },
  {
   "cell_type": "code",
   "execution_count": 3,
   "id": "540efc5a",
   "metadata": {},
   "outputs": [],
   "source": [
    "df.drop(['Unnamed: 2', 'Unnamed: 3', 'Unnamed: 4'],axis=1,inplace=True)"
   ]
  },
  {
   "cell_type": "code",
   "execution_count": 4,
   "id": "c294289f",
   "metadata": {},
   "outputs": [],
   "source": [
    "from wordcloud import WordCloud, STOPWORDS, ImageColorGenerator"
   ]
  },
  {
   "cell_type": "code",
   "execution_count": 5,
   "id": "4433bd0b",
   "metadata": {},
   "outputs": [],
   "source": [
    "X = df.v2\n",
    "Y = df.v1\n",
    "le = LabelEncoder()\n",
    "Y = le.fit_transform(Y)\n",
    "Y = Y.reshape(-1,1)"
   ]
  },
  {
   "cell_type": "code",
   "execution_count": 6,
   "id": "3c0b8f2e",
   "metadata": {},
   "outputs": [],
   "source": [
    "X_train,X_test,Y_train,Y_test = train_test_split(X,Y,test_size=0.25)"
   ]
  },
  {
   "cell_type": "code",
   "execution_count": 7,
   "id": "d9fe8176",
   "metadata": {},
   "outputs": [],
   "source": [
    "max_words = 1000\n",
    "max_len = 150\n",
    "tok = Tokenizer(num_words=max_words)\n",
    "tok.fit_on_texts(X_train)\n",
    "sequences = tok.texts_to_sequences(X_train)\n",
    "sequences_matrix = pad_sequences(sequences,maxlen=max_len)"
   ]
  },
  {
   "cell_type": "markdown",
   "id": "0c87f176",
   "metadata": {},
   "source": [
    "# CREATE MODELS & ADD LAYERS"
   ]
  },
  {
   "cell_type": "code",
   "execution_count": 8,
   "id": "31db0344",
   "metadata": {},
   "outputs": [],
   "source": [
    "inputs = Input(shape=[max_len])\n",
    "layer = Embedding(max_words,50,input_length=max_len)(inputs)\n",
    "layer = LSTM(128)(layer)\n",
    "layer = Dense(128)(layer)\n",
    "layer = Activation('relu')(layer)\n",
    "layer = Dropout(0.5)(layer)\n",
    "layer = Dense(1)(layer)\n",
    "layer = Activation('sigmoid')(layer)\n",
    "model = Model(inputs=inputs,outputs=layer)"
   ]
  },
  {
   "cell_type": "code",
   "execution_count": 9,
   "id": "a188d347",
   "metadata": {},
   "outputs": [
    {
     "name": "stdout",
     "output_type": "stream",
     "text": [
      "Model: \"model\"\n",
      "_________________________________________________________________\n",
      " Layer (type)                Output Shape              Param #   \n",
      "=================================================================\n",
      " input_1 (InputLayer)        [(None, 150)]             0         \n",
      "                                                                 \n",
      " embedding (Embedding)       (None, 150, 50)           50000     \n",
      "                                                                 \n",
      " lstm (LSTM)                 (None, 128)               91648     \n",
      "                                                                 \n",
      " dense (Dense)               (None, 128)               16512     \n",
      "                                                                 \n",
      " activation (Activation)     (None, 128)               0         \n",
      "                                                                 \n",
      " dropout (Dropout)           (None, 128)               0         \n",
      "                                                                 \n",
      " dense_1 (Dense)             (None, 1)                 129       \n",
      "                                                                 \n",
      " activation_1 (Activation)   (None, 1)                 0         \n",
      "                                                                 \n",
      "=================================================================\n",
      "Total params: 158,289\n",
      "Trainable params: 158,289\n",
      "Non-trainable params: 0\n",
      "_________________________________________________________________\n"
     ]
    }
   ],
   "source": [
    "model.summary()"
   ]
  },
  {
   "cell_type": "markdown",
   "id": "d0cd6f8f",
   "metadata": {},
   "source": [
    "# COMPILING THE MODEL"
   ]
  },
  {
   "cell_type": "code",
   "execution_count": 10,
   "id": "51c90d6d",
   "metadata": {},
   "outputs": [],
   "source": [
    "model.compile(loss='binary_crossentropy',optimizer=Adam(),metrics=['accuracy'])"
   ]
  },
  {
   "cell_type": "markdown",
   "id": "906768f8",
   "metadata": {},
   "source": [
    "# TRAINING THE MODEL"
   ]
  },
  {
   "cell_type": "code",
   "execution_count": 11,
   "id": "cc0cb6b0",
   "metadata": {},
   "outputs": [
    {
     "name": "stdout",
     "output_type": "stream",
     "text": [
      "Epoch 1/15\n",
      "168/168 [==============================] - 13s 63ms/step - loss: 0.1755 - accuracy: 0.9417 - val_loss: 0.0500 - val_accuracy: 0.9844\n",
      "Epoch 2/15\n",
      "168/168 [==============================] - 12s 71ms/step - loss: 0.0402 - accuracy: 0.9901 - val_loss: 0.0594 - val_accuracy: 0.9833\n",
      "Epoch 3/15\n",
      "168/168 [==============================] - 11s 66ms/step - loss: 0.0223 - accuracy: 0.9934 - val_loss: 0.0658 - val_accuracy: 0.9844\n",
      "Epoch 4/15\n",
      "168/168 [==============================] - 10s 60ms/step - loss: 0.0119 - accuracy: 0.9958 - val_loss: 0.0595 - val_accuracy: 0.9880\n",
      "Epoch 5/15\n",
      "168/168 [==============================] - 18s 107ms/step - loss: 0.0134 - accuracy: 0.9964 - val_loss: 0.0658 - val_accuracy: 0.9856\n",
      "Epoch 6/15\n",
      "168/168 [==============================] - 10s 61ms/step - loss: 0.0083 - accuracy: 0.9991 - val_loss: 0.0615 - val_accuracy: 0.9856\n",
      "Epoch 7/15\n",
      "168/168 [==============================] - 14s 85ms/step - loss: 0.0044 - accuracy: 0.9988 - val_loss: 0.0731 - val_accuracy: 0.9856\n",
      "Epoch 8/15\n",
      "168/168 [==============================] - 12s 73ms/step - loss: 0.0046 - accuracy: 0.9994 - val_loss: 0.0801 - val_accuracy: 0.9844\n",
      "Epoch 9/15\n",
      "168/168 [==============================] - 13s 80ms/step - loss: 0.0030 - accuracy: 0.9997 - val_loss: 0.0901 - val_accuracy: 0.9856\n",
      "Epoch 10/15\n",
      "168/168 [==============================] - 13s 79ms/step - loss: 0.0029 - accuracy: 0.9997 - val_loss: 0.0737 - val_accuracy: 0.9844\n",
      "Epoch 11/15\n",
      "168/168 [==============================] - 13s 79ms/step - loss: 0.0020 - accuracy: 0.9997 - val_loss: 0.0868 - val_accuracy: 0.9868\n",
      "Epoch 12/15\n",
      "168/168 [==============================] - 13s 78ms/step - loss: 0.0024 - accuracy: 0.9997 - val_loss: 0.0800 - val_accuracy: 0.9880\n",
      "Epoch 13/15\n",
      "168/168 [==============================] - 14s 81ms/step - loss: 0.0021 - accuracy: 0.9997 - val_loss: 0.0801 - val_accuracy: 0.9868\n",
      "Epoch 14/15\n",
      "168/168 [==============================] - 13s 79ms/step - loss: 0.0020 - accuracy: 0.9997 - val_loss: 0.0883 - val_accuracy: 0.9880\n",
      "Epoch 15/15\n",
      "168/168 [==============================] - 14s 82ms/step - loss: 0.0017 - accuracy: 0.9997 - val_loss: 0.0959 - val_accuracy: 0.9892\n"
     ]
    }
   ],
   "source": [
    "history = model.fit(sequences_matrix,Y_train,batch_size=20,epochs=15,\n",
    "          validation_split=0.2)"
   ]
  },
  {
   "cell_type": "code",
   "execution_count": 12,
   "id": "09b566dd",
   "metadata": {},
   "outputs": [],
   "source": [
    "metrics = pd.DataFrame(history.history)\n",
    "metrics.rename(columns = {'loss': 'Training_Loss', 'accuracy': 'Training_Accuracy', 'val_loss': 'Validation_Loss', 'val_accuracy': 'Validation_Accuracy'}, inplace = True)\n",
    "def plot_graphs1(var1, var2, string):\n",
    "    metrics[[var1, var2]].plot()\n",
    "    plt.title('Training and Validation ' + string)\n",
    "    plt.xlabel ('Number of epochs')\n",
    "    plt.ylabel(string)\n",
    "    plt.legend([var1, var2])"
   ]
  },
  {
   "cell_type": "code",
   "execution_count": 13,
   "id": "a1473f15",
   "metadata": {},
   "outputs": [
    {
     "data": {
      "image/png": "[encoded data removed]",
      "text/plain": [
       "<Figure size 432x288 with 1 Axes>"
      ]
     },
     "metadata": {
      "needs_background": "light"
     },
     "output_type": "display_data"
    }
   ],
   "source": [
    "plot_graphs1('Training_Accuracy', 'Validation_Accuracy', 'accuracy')"
   ]
  },
  {
   "cell_type": "markdown",
   "id": "642009c3",
   "metadata": {},
   "source": [
    "# SAVING THE MODEL\n"
   ]
  },
  {
   "cell_type": "code",
   "execution_count": 14,
   "id": "bf6195da",
   "metadata": {},
   "outputs": [],
   "source": [
    "model.save('Spam_sms_classifier.h5')"
   ]
  },
  {
   "cell_type": "markdown",
   "id": "00749aac",
   "metadata": {},
   "source": [
    "# PREPROCESSING THE TEST DATASET"
   ]
  },
  {
   "cell_type": "code",
   "execution_count": 15,
   "id": "d40b3838",
   "metadata": {},
   "outputs": [],
   "source": [
    "test_sequences = tok.texts_to_sequences(X_test)\n",
    "test_sequences_matrix = pad_sequences(test_sequences,maxlen=max_len)"
   ]
  },
  {
   "cell_type": "markdown",
   "id": "cf661095",
   "metadata": {},
   "source": [
    "# TESTING THE MODEL"
   ]
  },
  {
   "cell_type": "code",
   "execution_count": 16,
   "id": "3dee3529",
   "metadata": {},
   "outputs": [
    {
     "name": "stdout",
     "output_type": "stream",
     "text": [
      "44/44 [==============================] - 1s 24ms/step - loss: 0.1305 - accuracy: 0.9864\n"
     ]
    }
   ],
   "source": [
    "accuracy1 = model.evaluate(test_sequences_matrix,Y_test)"
   ]
  },
  {
   "cell_type": "code",
   "execution_count": 17,
   "id": "8cebe480",
   "metadata": {},
   "outputs": [
    {
     "name": "stdout",
     "output_type": "stream",
     "text": [
      " Accuracy: 0.1305\n"
     ]
    }
   ],
   "source": [
    "print(' Accuracy: {:0.4f}'.format(accuracy1[0],accuracy1[1]))"
   ]
  }
 ],
 "metadata": {
  "kernelspec": {
   "display_name": "Python 3 (ipykernel)",
   "language": "python",
   "name": "python3"
  },
  "language_info": {
   "codemirror_mode": {
    "name": "ipython",
    "version": 3
   },
   "file_extension": ".py",
   "mimetype": "text/x-python",
   "name": "python",
   "nbconvert_exporter": "python",
   "pygments_lexer": "ipython3",
   "version": "3.9.7"
  }
 },
 "nbformat": 4,
 "nbformat_minor": 5
}
